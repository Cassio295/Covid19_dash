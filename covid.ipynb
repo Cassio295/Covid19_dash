{
 "cells": [
  {
   "cell_type": "code",
   "execution_count": 1,
   "metadata": {},
   "outputs": [],
   "source": [
    "import pandas as pd \n",
    "from dash import Dash, html, Input, Output,callback, dcc\n",
    "import dash \n",
    "casos = pd.read_csv('caso_full.csv', sep = ',')\n",
    "import plotly.express as px\n",
    "import dash_bootstrap_components as dbc\n"
   ]
  },
  {
   "cell_type": "code",
   "execution_count": 65,
   "metadata": {},
   "outputs": [
    {
     "name": "stdout",
     "output_type": "stream",
     "text": [
      "<class 'pandas.core.frame.DataFrame'>\n",
      "RangeIndex: 3853648 entries, 0 to 3853647\n",
      "Data columns (total 8 columns):\n",
      " #   Column                Dtype \n",
      "---  ------                ----- \n",
      " 0   city                  object\n",
      " 1   epidemiological_week  int64 \n",
      " 2   state                 object\n",
      " 3   new_confirmed         int64 \n",
      " 4   new_deaths            int64 \n",
      " 5   ano                   int32 \n",
      " 6   mes                   int32 \n",
      " 7   regiao                object\n",
      "dtypes: int32(2), int64(3), object(3)\n",
      "memory usage: 205.8+ MB\n"
     ]
    }
   ],
   "source": [
    "casos.info()"
   ]
  },
  {
   "cell_type": "code",
   "execution_count": 3,
   "metadata": {},
   "outputs": [],
   "source": [
    "casos['data'] = pd.to_datetime(casos['date'])\n",
    "casos['ano'] = casos['data'].dt.year\n",
    "casos['mes'] = casos['data'].dt.month"
   ]
  },
  {
   "cell_type": "code",
   "execution_count": 4,
   "metadata": {},
   "outputs": [],
   "source": [
    "casos = casos[['city', 'epidemiological_week', 'state', 'new_confirmed', 'new_deaths', 'ano','mes']]"
   ]
  },
  {
   "cell_type": "code",
   "execution_count": 3,
   "metadata": {},
   "outputs": [
    {
     "ename": "NameError",
     "evalue": "name 'casos' is not defined",
     "output_type": "error",
     "traceback": [
      "\u001b[1;31m---------------------------------------------------------------------------\u001b[0m",
      "\u001b[1;31mNameError\u001b[0m                                 Traceback (most recent call last)",
      "Cell \u001b[1;32mIn[3], line 1\u001b[0m\n\u001b[1;32m----> 1\u001b[0m \u001b[43mcasos\u001b[49m\u001b[38;5;241m.\u001b[39mhead()\n",
      "\u001b[1;31mNameError\u001b[0m: name 'casos' is not defined"
     ]
    }
   ],
   "source": [
    "casos.head()"
   ]
  },
  {
   "cell_type": "code",
   "execution_count": 6,
   "metadata": {},
   "outputs": [
    {
     "name": "stdout",
     "output_type": "stream",
     "text": [
      "<class 'pandas.core.frame.DataFrame'>\n",
      "RangeIndex: 3853648 entries, 0 to 3853647\n",
      "Data columns (total 7 columns):\n",
      " #   Column                Dtype \n",
      "---  ------                ----- \n",
      " 0   city                  object\n",
      " 1   epidemiological_week  int64 \n",
      " 2   state                 object\n",
      " 3   new_confirmed         int64 \n",
      " 4   new_deaths            int64 \n",
      " 5   ano                   int32 \n",
      " 6   mes                   int32 \n",
      "dtypes: int32(2), int64(3), object(2)\n",
      "memory usage: 176.4+ MB\n"
     ]
    }
   ],
   "source": [
    "casos.info()"
   ]
  },
  {
   "cell_type": "code",
   "execution_count": 7,
   "metadata": {},
   "outputs": [],
   "source": [
    "estados_regioes = {\n",
    "    'AC': 'Norte',\n",
    "    'AL': 'Nordeste',\n",
    "    'AM': 'Norte',\n",
    "    'AP': 'Norte',\n",
    "    'BA': 'Nordeste',\n",
    "    'CE': 'Nordeste',\n",
    "    'DF': 'Centro-Oeste',\n",
    "    'ES': 'Sudeste',\n",
    "    'GO': 'Centro-Oeste',\n",
    "    'MA': 'Nordeste',\n",
    "    'MG': 'Sudeste',\n",
    "    'MS': 'Centro-Oeste',\n",
    "    'MT': 'Centro-Oeste',\n",
    "    'PA': 'Norte',\n",
    "    'PB': 'Nordeste',\n",
    "    'PE': 'Nordeste',\n",
    "    'PI': 'Nordeste',\n",
    "    'PR': 'Sul',\n",
    "    'RJ': 'Sudeste',\n",
    "    'RN': 'Nordeste',\n",
    "    'RO': 'Norte',\n",
    "    'RR': 'Norte',\n",
    "    'RS': 'Sul',\n",
    "    'SC': 'Sul',\n",
    "    'SE': 'Nordeste',\n",
    "    'SP': 'Sudeste',\n",
    "    'TO': 'Norte'\n",
    "}\n"
   ]
  },
  {
   "cell_type": "code",
   "execution_count": 2,
   "metadata": {},
   "outputs": [
    {
     "ename": "NameError",
     "evalue": "name 'casos' is not defined",
     "output_type": "error",
     "traceback": [
      "\u001b[1;31m---------------------------------------------------------------------------\u001b[0m",
      "\u001b[1;31mNameError\u001b[0m                                 Traceback (most recent call last)",
      "Cell \u001b[1;32mIn[2], line 1\u001b[0m\n\u001b[1;32m----> 1\u001b[0m casos[\u001b[38;5;124m'\u001b[39m\u001b[38;5;124mregiao\u001b[39m\u001b[38;5;124m'\u001b[39m] \u001b[38;5;241m=\u001b[39m \u001b[43mcasos\u001b[49m[\u001b[38;5;124m'\u001b[39m\u001b[38;5;124mstate\u001b[39m\u001b[38;5;124m'\u001b[39m]\u001b[38;5;241m.\u001b[39mmap(estados_regioes)\n",
      "\u001b[1;31mNameError\u001b[0m: name 'casos' is not defined"
     ]
    }
   ],
   "source": [
    "casos['regiao'] = casos['state'].map(estados_regioes)"
   ]
  },
  {
   "cell_type": "code",
   "execution_count": 1,
   "metadata": {},
   "outputs": [
    {
     "ename": "NameError",
     "evalue": "name 'casos' is not defined",
     "output_type": "error",
     "traceback": [
      "\u001b[1;31m---------------------------------------------------------------------------\u001b[0m",
      "\u001b[1;31mNameError\u001b[0m                                 Traceback (most recent call last)",
      "Cell \u001b[1;32mIn[1], line 1\u001b[0m\n\u001b[1;32m----> 1\u001b[0m \u001b[43mcasos\u001b[49m\u001b[38;5;241m.\u001b[39mhead()\n",
      "\u001b[1;31mNameError\u001b[0m: name 'casos' is not defined"
     ]
    }
   ],
   "source": [
    "casos.head()"
   ]
  },
  {
   "cell_type": "code",
   "execution_count": 10,
   "metadata": {},
   "outputs": [],
   "source": [
    "total_ano = casos[['state','new_deaths','ano','new_confirmed', 'regiao']].groupby(['state','ano','regiao']).sum().reset_index()\n",
    "total_mes = casos[['state','mes','new_deaths','new_confirmed','ano','regiao']].groupby(['state','mes','ano','regiao']).sum().reset_index()\n"
   ]
  },
  {
   "cell_type": "code",
   "execution_count": 26,
   "metadata": {},
   "outputs": [],
   "source": [
    "maior_regiao = total_ano.groupby('regiao')['new_confirmed'].sum().idxmax()\n",
    "maior_regiao_valor = total_ano.groupby('regiao')['new_deaths'].sum().max()\n"
   ]
  },
  {
   "cell_type": "code",
   "execution_count": 150,
   "metadata": {},
   "outputs": [],
   "source": [
    "import dash\n",
    "from dash import dcc, html\n",
    "from dash.dependencies import Input, Output\n",
    "import plotly.express as px\n",
    "import dash_bootstrap_components as dbc  # Certifique-se de ter adicionado o import para o dbc\n",
    "\n",
    "app = dash.Dash(__name__)\n",
    "\n",
    "# Supondo que você já tenha os DataFrames total_ano e total_estado carregados.\n",
    "\n",
    "app.layout = html.Div(style={'backgroundColor': '#06141B'}, className=\"container\", children=[\n",
    "    # Criando os elementos dos filtros\n",
    "html.Div([\n",
    "        html.Div(\n",
    "            dcc.Dropdown(\n",
    "                id='filtro_ano',\n",
    "                options=[{'label': ano, 'value': ano} for ano in total_ano['ano'].unique()],\n",
    "                value=2022,\n",
    "                style={'color': '#CCD0CF', 'backgroundColor': '#11212D',  # Usando a paleta para o dropdown\n",
    "                       'borderColor': '#4A5C6A', 'text-align': 'center', \n",
    "                       'padding': '5px', 'height': '38px'}\n",
    "            ), style={'flex': '1', 'margin-right': '10px'}  # Estilo flex para alinhar e espaçamento\n",
    "        ),\n",
    "\n",
    "        html.Div(\n",
    "            dcc.Dropdown(\n",
    "                id='filtro_estados',\n",
    "                options=[{'label': estado, 'value': estado} for estado in total_ano['state'].unique()],\n",
    "                style={'color': '#CCD0CF', 'backgroundColor': '#11212D',  # Usando a paleta para o dropdown\n",
    "                       'borderColor': '#4A5C6A', 'text-align': 'center',\n",
    "                       'padding': '5px', 'height': '38px'}\n",
    "            ), style={'flex': '1'}  # Estilo flex para alinhar e espaçamento\n",
    "        ),\n",
    "    ], style={'display': 'flex', 'padding': '10px'}),  # Flexbox para alinhar os elementos\n",
    "\n",
    "\n",
    " dbc.Row([\n",
    "        dbc.Col(dbc.Card([\n",
    "            dbc.CardBody(html.H4(id='maior_caso', children='Maior Número de Casos')),\n",
    "        ], style={'backgroundColor': '#CCD0CF', 'color': '#11212D', 'padding': '5px', 'border-radius': '5px', 'margin': '3px'}), width=3),\n",
    "        \n",
    "        dbc.Col(dbc.Card([\n",
    "            dbc.CardBody(html.H4(id='maior_morte', children='Maior Número de Mortes')),\n",
    "        ], style={'backgroundColor': '#CCD0CF', 'color': '#11212D', 'padding': '5px', 'border-radius': '5px', 'margin': '3px'}), width=3),        \n",
    "        dbc.Col(dbc.Card([\n",
    "            dbc.CardBody(html.H4(id='maior_regiao_casos', children='Maior Região com Número de Casos')),\n",
    "        ], style={'backgroundColor': '#CCD0CF', 'color': '#11212D', 'padding': '5px', 'border-radius': '5px', 'margin': '3px'}), width=3),\n",
    "        \n",
    "        dbc.Col(dbc.Card([\n",
    "            dbc.CardBody(html.H4(id='maior_regiao_mortes', children='Maior Região com Número de Mortes')),\n",
    "        ], style={'backgroundColor': '#CCD0CF', 'color': '#11212D', 'padding': '5px', 'border-radius': '5px', 'margin': '3px'}), width=3),\n",
    "    ], style = {'display': 'flex', 'justify-content': 'space-between', 'margin-bottom':'20px'}),\n",
    "    \n",
    "    # Criando os elementos dos gráficos\n",
    "    dbc.Row([\n",
    "        dbc.Col(dcc.Graph(id='grafico_calor'),\n",
    "                width=6, style={'padding': '10px', 'color': '#9BA8AB'}),\n",
    "        dbc.Col(dcc.Graph(id='grafico_hist'), width=6, style={'padding': '10px'}),\n",
    "    ], style={'display': 'flex'}),\n",
    "\n",
    "    dbc.Row([\n",
    "        dbc.Col(dcc.Graph(id='grafico_barras'), width=6, style={'padding': '10px'}),\n",
    "        dbc.Col(dcc.Graph(id='grafico_rosca'), width=6, style={'padding': '10px'})\n",
    "    ], style={'display': 'flex'})\n",
    "\n",
    "])\n"
   ]
  },
  {
   "cell_type": "code",
   "execution_count": 151,
   "metadata": {},
   "outputs": [
    {
     "data": {
      "text/html": [
       "\n",
       "        <iframe\n",
       "            width=\"100%\"\n",
       "            height=\"650\"\n",
       "            src=\"http://127.0.0.1:8050/\"\n",
       "            frameborder=\"0\"\n",
       "            allowfullscreen\n",
       "            \n",
       "        ></iframe>\n",
       "        "
      ],
      "text/plain": [
       "<IPython.lib.display.IFrame at 0x1eda2cdcd50>"
      ]
     },
     "metadata": {},
     "output_type": "display_data"
    }
   ],
   "source": [
    "# Define os Outputs e Inputs do callback\n",
    "# Define the Outputs and Inputs for the callback\n",
    "@app.callback(\n",
    "    [Output('grafico_calor', 'figure'),   # Output do gráfico de mapa coroplético\n",
    "     Output('grafico_hist', 'figure'),    # Output do gráfico de histograma\n",
    "     Output('grafico_barras', 'figure'),  # Output do gráfico de barras\n",
    "     Output('grafico_rosca', 'figure'),   # Output do gráfico de pizza\n",
    "     Output('maior_caso', 'children'),    # Output da métrica do maior caso\n",
    "     Output('maior_morte', 'children'),   # Output da métrica do maior número de mortes\n",
    "     Output('maior_regiao_casos', 'children'), # Output da métrica da região com mais casos\n",
    "     Output('maior_regiao_mortes', 'children')], # Output da métrica da região com mais mortes\n",
    "    [Input('filtro_estados', 'value'),    # Input para o filtro de estados\n",
    "     Input('filtro_ano', 'value')]        # Input para o filtro de anos\n",
    ")\n",
    "\n",
    "# Função que atualiza os gráficos e métricas baseado nos filtros aplicados\n",
    "# Function that updates the charts and metrics based on the applied filters\n",
    "def atualiza_charts(estado, ano):\n",
    "    # Filtra os dados para o estado e ano selecionados\n",
    "    # Filter data for the selected state and year\n",
    "    estado_df = total_ano[(total_ano['ano'] == ano) & (total_ano['state'] == estado)] if estado else total_ano[total_ano['ano'] == ano]\n",
    "\n",
    "    # Cria um mapa coroplético para exibir os casos por estado no Brasil\n",
    "    # Create a choropleth map to display cases by state in Brazil\n",
    "    fig_mapa = px.choropleth(estado_df,\n",
    "                             geojson='https://raw.githubusercontent.com/codeforamerica/click_that_hood/master/public/data/brazil-states.geojson',\n",
    "                             locations='state',\n",
    "                             featureidkey='properties.sigla',\n",
    "                             color='new_confirmed',\n",
    "                             hover_name='state',\n",
    "                             hover_data=['new_confirmed', 'new_deaths'],\n",
    "                             color_continuous_scale='Blues',\n",
    "                             title=\"Mapa Coroplético dos Casos por Estado no Brasil\")\n",
    "\n",
    "    # Atualiza as propriedades geográficas do mapa\n",
    "    # Update the geographic properties of the map\n",
    "    fig_mapa.update_geos(\n",
    "        scope=\"south america\",  # Limita o escopo ao Brasil / Limit scope to Brazil\n",
    "        projection_type=\"mercator\",  # Usa projeção Mercator / Use Mercator projection\n",
    "        center={\"lat\": -14.2350, \"lon\": -51.9253},  # Centraliza no Brasil / Center on Brazil\n",
    "        lataxis_range=[-35, 5],  # Ajusta as latitudes para focar no Brasil / Adjust latitudes to focus on Brazil\n",
    "        lonaxis_range=[-75, -30],  # Ajusta as longitudes para focar no Brasil / Adjust longitudes to focus on Brazil\n",
    "        landcolor=\"#11212D\",  # Cor da terra / Land color\n",
    "        showocean=True,  # Exibe os oceanos / Show oceans\n",
    "        oceancolor=\"#253745\",  # Cor dos oceanos / Ocean color\n",
    "        lakecolor=\"#253745\"  # Cor dos lagos / Lake color\n",
    "    )\n",
    "\n",
    "    # Atualiza o layout do mapa, incluindo o fundo e cor do texto\n",
    "    # Update the map layout, including background and text color\n",
    "    fig_mapa.update_layout(\n",
    "        paper_bgcolor='#253745',\n",
    "        font=dict(color='#CCD0CF'),\n",
    "        plot_bgcolor='#CCD0CF'\n",
    "    )\n",
    "\n",
    "    # Atualiza as propriedades do eixo X do mapa\n",
    "    # Update the X-axis properties of the map\n",
    "    fig_mapa.update_xaxes(\n",
    "        title_font=dict(size=18, color='#CCD0CF')\n",
    "    )\n",
    "\n",
    "    # Filtra os dados apenas pelo ano selecionado\n",
    "    # Filter data by the selected year only\n",
    "    filtro_ano = total_ano[total_ano['ano'] == ano]\n",
    "\n",
    "    # Cria um histograma para comparar o crescimento de mortes por região\n",
    "    # Create a histogram to compare death growth by region\n",
    "    fig_hist = px.histogram(filtro_ano,\n",
    "                            x='regiao',\n",
    "                            y='new_deaths',\n",
    "                            hover_name='new_confirmed',\n",
    "                            color='state',\n",
    "                            title='Comparação de crescimento de mortes por região.')\n",
    "\n",
    "    # Atualiza o layout do histograma, incluindo o fundo e cor do texto\n",
    "    # Update the histogram layout, including background and text color\n",
    "    fig_hist.update_layout(\n",
    "        paper_bgcolor='#253745',\n",
    "        font=dict(color='#CCD0CF')\n",
    "    )\n",
    "\n",
    "    # Cria um gráfico de barras para exibir os índices de mortes entre estados\n",
    "    # Create a bar chart to display death indices between states\n",
    "    fig_barras = px.bar(data_frame=estado_df,\n",
    "                        x='new_deaths',\n",
    "                        y='state',\n",
    "                        color='regiao',\n",
    "                        title='Índices de mortes entre estados',\n",
    "                        orientation='h')\n",
    "\n",
    "    # Atualiza o layout do gráfico de barras, incluindo o fundo e cor do texto\n",
    "    # Update the bar chart layout, including background and text color\n",
    "    fig_barras.update_layout(\n",
    "        paper_bgcolor='#253745',\n",
    "        font=dict(color='#CCD0CF')\n",
    "    )\n",
    "\n",
    "    # Cria um gráfico de pizza para exibir a porcentagem de casos confirmados por região\n",
    "    # Create a pie chart to display the percentage of confirmed cases by region\n",
    "    fig_pie = px.pie(\n",
    "        filtro_ano,\n",
    "        values='new_confirmed',\n",
    "        names='regiao',\n",
    "        color_discrete_sequence=px.colors.sequential.RdBu,\n",
    "        labels={'Região': 'regiao'},\n",
    "        title='Porcentagem de casos confirmados por região'\n",
    "    )\n",
    "\n",
    "    # Atualiza as anotações no gráfico de pizza\n",
    "    # Update annotations on the pie chart\n",
    "    fig_pie.update_traces(textinfo='label+percent')\n",
    "\n",
    "    # Atualiza o layout do gráfico de pizza, incluindo o fundo e cor do texto\n",
    "    # Update the pie chart layout, including background and text color\n",
    "    fig_pie.update_layout(\n",
    "        paper_bgcolor='#253745',\n",
    "        font=dict(color='#CCD0CF')\n",
    "    )\n",
    "\n",
    "    # Calcular métricas de maior caso e maior morte\n",
    "    # Calculate metrics for the largest case and largest death\n",
    "    maior_caso = estado_df.groupby('state')['new_confirmed'].sum().idxmax()\n",
    "    maior_caso_valor = estado_df.groupby('state')['new_confirmed'].sum().max()\n",
    "\n",
    "    maior_morte = estado_df.groupby('state')['new_deaths'].sum().idxmax()\n",
    "    maior_morte_valor = estado_df.groupby('state')['new_deaths'].sum().max()\n",
    "\n",
    "    # Calcular métricas da maior região em casos e mortes\n",
    "    # Calculate metrics for the region with the most cases and deaths\n",
    "    maior_regiao_casos = estado_df.groupby('regiao')['new_confirmed'].sum().idxmax()\n",
    "    maior_regiao_casos_valor = estado_df.groupby('regiao')['new_confirmed'].sum().max()\n",
    "\n",
    "    maior_regiao_mortes = estado_df.groupby('regiao')['new_deaths'].sum().idxmax()\n",
    "    maior_regiao_mortes_valor = estado_df.groupby('regiao')['new_deaths'].sum().max()\n",
    "\n",
    "    # Retorna as figuras dos gráficos e as métricas calculadas\n",
    "    # Return the figures of the charts and the calculated metrics\n",
    "    return (\n",
    "        fig_mapa,\n",
    "        fig_hist,\n",
    "        fig_barras,\n",
    "        fig_pie,\n",
    "        f'Maior número de casos: {maior_caso} ({maior_caso_valor})',\n",
    "        f'Maior número de mortes: {maior_morte} ({maior_morte_valor})',\n",
    "        f'Maior região com número de casos: {maior_regiao_casos} ({maior_regiao_casos_valor})',\n",
    "        f'Maior região com número de mortes: {maior_regiao_mortes} ({maior_regiao_mortes_valor})'\n",
    "    )\n",
    "\n",
    "# Inicializa o servidor do Dash\n",
    "# Initialize the Dash server\n",
    "if __name__ == '__main__':\n",
    "    app.run_server(debug=True)\n"
   ]
  }
 ],
 "metadata": {
  "kernelspec": {
   "display_name": "Python 3",
   "language": "python",
   "name": "python3"
  },
  "language_info": {
   "codemirror_mode": {
    "name": "ipython",
    "version": 3
   },
   "file_extension": ".py",
   "mimetype": "text/x-python",
   "name": "python",
   "nbconvert_exporter": "python",
   "pygments_lexer": "ipython3",
   "version": "3.11.9"
  }
 },
 "nbformat": 4,
 "nbformat_minor": 2
}
