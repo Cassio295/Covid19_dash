{
 "cells": [
  {
   "cell_type": "code",
   "execution_count": 68,
   "metadata": {},
   "outputs": [],
   "source": [
    "import requests \n",
    "import pandas as pd\n",
    "token = \"eyJhbGciOiJIUzI1NiIsInR5cCI6IkpXVCJ9.eyJodHRwOi8vc2NoZW1hcy54bWxzb2FwLm9yZy93cy8yMDA1LzA1L2lkZW50aXR5L2NsYWltcy9uYW1lIjoiZGVzZW52b2x2aW1lbnRvQHJlZGVkcm9nYWxlc3RlLmNvbS5iciIsImh0dHA6Ly9zY2hlbWFzLm1pY3Jvc29mdC5jb20vd3MvMjAwOC8wNi9pZGVudGl0eS9jbGFpbXMvcm9sZSI6WyJDYWRhc3Ryb3MiLCJDZW5jaSIsIkNvbGFib3JhZG9yZXMiLCJDb250YWJpbCIsIkVsb2Z5IiwiRW1wcmVzYXMiLCJGZWVkbG92ZXIiLCJGaW5hbmNlaXJvIiwiRm9saGFEZVBhZ2FtZW50byIsIkZyZXF1ZW5jaWEiLCJJbmRpY2Fkb3Jlc1JIIiwiSW50ZWdyYWNvZXMiLCJNdXJiaSIsIk5leHQiLCJQb3J0YWxSSCIsIlJlY3J1dGFtZW50b1NlbGVjYW8iLCJTYXVkZU9jdXBhY2lvbmFsIiwiU2VndXJhbmNhVHJhYmFsaG8iLCJTa2VlbCIsIlRyZWluYW1lbnRvRGVzZW52b2x2aW1lbnRvIiwiVW5pY28iLCJJZFNlY3VyZSIsIlNvYyIsIlZpYmUiLCJBdXRvdHJhYyIsIk5vdGlmaWNhY29lcyIsIk5vdGlmaWNhY29lc19JbnNlcmlyV2ViaG9vayIsIlR3eWdvIiwiQWN0aXZlRGlyZWN0b3J5IiwiUG9udG9WaXQiLCJQcm9ncmFtYWNhbyIsIlVtZW50b3IiXSwiZXhwIjoxNzI0NDQ1MDU0LCJpc3MiOiJnQ1hIQ1RMUFF0NEEzMjdXIiwiYXVkIjoiZ0NYSENUTFBRdDRBMzI3VyJ9.P8BGOGK9GF55w1dFoHatXr1H2aJ5alxNDuyGp_fU3bU\"\n",
    "\n",
    "headers = {'Authorization ': f'Bearer {token}'}\n",
    "\n",
    "\n",
    "params = {'pagina':1, 'datafolha':\"06-2024\"}\n",
    "url = 'https://apidrogaleste.cloudmetadados.com.br/folhaDePagamento/folhaPagamento'\n",
    "resultados = []\n",
    "while True:\n",
    "    try:\n",
    "        response = requests.get(url, headers=headers, params=params)\n",
    "        response.raise_for_status()  # Verifica se houve um erro na requisição\n",
    "\n",
    "        data = response.json()\n",
    "        if not data:  # Se o JSON estiver vazio, encerra o loop\n",
    "            break\n",
    "\n",
    "        resultados.append(data)\n",
    "        params['pagina'] += 1  # Incrementa a página para a próxima requisição\n",
    "\n",
    "    except requests.exceptions.RequestException as e:\n",
    "        print(f\"Erro na requisição: {e}\")\n",
    "        break\n",
    "\n",
    "    \n",
    "\n",
    "\n"
   ]
  },
  {
   "cell_type": "code",
   "execution_count": 60,
   "metadata": {},
   "outputs": [],
   "source": [
    "from sqlalchemy import create_engine, URL\n",
    "connection_string = (\n",
    "    f\"DRIVER=ODBC Driver 18 for SQL Server;\"\n",
    "    f\"SERVER=drogaleste.procfit.com.br;\"\n",
    "    f\"DATABASE=PBS_DROGALESTE_DADOS;\"\n",
    "    f\"UID=procfit.drogaleste;\"\n",
    "    f\"PWD=Pr0cf1t@dr#g@l!st!5;\"\n",
    "    f\"TrustServerCertificate=yes\"\n",
    ")\n",
    "\n",
    "\n",
    "\n",
    "connection_url = URL.create(\"mssql+pyodbc\", query={\"odbc_connect\": connection_string})\n",
    "engine = create_engine(connection_url)\n"
   ]
  },
  {
   "cell_type": "code",
   "execution_count": null,
   "metadata": {},
   "outputs": [],
   "source": []
  },
  {
   "cell_type": "code",
   "execution_count": 66,
   "metadata": {},
   "outputs": [],
   "source": [
    "df = pd.DataFrame([p for n in resultados for p in n])"
   ]
  },
  {
   "cell_type": "code",
   "execution_count": 67,
   "metadata": {},
   "outputs": [
    {
     "data": {
      "text/plain": [
       "107"
      ]
     },
     "execution_count": 67,
     "metadata": {},
     "output_type": "execute_result"
    }
   ],
   "source": [
    "df.to_sql(\"METADADOS_FOLHAS_PAGAMENTOS\", con = engine, index=False, if_exists='append')"
   ]
  },
  {
   "cell_type": "code",
   "execution_count": 16,
   "metadata": {},
   "outputs": [],
   "source": [
    "casos['data'] = pd.to_datetime(casos['date'])\n",
    "casos['ano'] = casos['data'].dt.year\n",
    "casos['mes'] = casos['data'].dt.month"
   ]
  },
  {
   "cell_type": "code",
   "execution_count": 17,
   "metadata": {},
   "outputs": [],
   "source": [
    "casos = casos[['city', 'epidemiological_week', 'state', 'new_confirmed', 'new_deaths', 'ano','mes']]"
   ]
  },
  {
   "cell_type": "code",
   "execution_count": 18,
   "metadata": {},
   "outputs": [
    {
     "data": {
      "text/html": [
       "<div>\n",
       "<style scoped>\n",
       "    .dataframe tbody tr th:only-of-type {\n",
       "        vertical-align: middle;\n",
       "    }\n",
       "\n",
       "    .dataframe tbody tr th {\n",
       "        vertical-align: top;\n",
       "    }\n",
       "\n",
       "    .dataframe thead th {\n",
       "        text-align: right;\n",
       "    }\n",
       "</style>\n",
       "<table border=\"1\" class=\"dataframe\">\n",
       "  <thead>\n",
       "    <tr style=\"text-align: right;\">\n",
       "      <th></th>\n",
       "      <th>city</th>\n",
       "      <th>epidemiological_week</th>\n",
       "      <th>state</th>\n",
       "      <th>new_confirmed</th>\n",
       "      <th>new_deaths</th>\n",
       "      <th>ano</th>\n",
       "      <th>mes</th>\n",
       "    </tr>\n",
       "  </thead>\n",
       "  <tbody>\n",
       "    <tr>\n",
       "      <th>0</th>\n",
       "      <td>Rio Branco</td>\n",
       "      <td>202012</td>\n",
       "      <td>AC</td>\n",
       "      <td>3</td>\n",
       "      <td>0</td>\n",
       "      <td>2020</td>\n",
       "      <td>3</td>\n",
       "    </tr>\n",
       "    <tr>\n",
       "      <th>1</th>\n",
       "      <td>NaN</td>\n",
       "      <td>202012</td>\n",
       "      <td>AC</td>\n",
       "      <td>3</td>\n",
       "      <td>0</td>\n",
       "      <td>2020</td>\n",
       "      <td>3</td>\n",
       "    </tr>\n",
       "    <tr>\n",
       "      <th>2</th>\n",
       "      <td>Rio Branco</td>\n",
       "      <td>202012</td>\n",
       "      <td>AC</td>\n",
       "      <td>0</td>\n",
       "      <td>0</td>\n",
       "      <td>2020</td>\n",
       "      <td>3</td>\n",
       "    </tr>\n",
       "    <tr>\n",
       "      <th>3</th>\n",
       "      <td>NaN</td>\n",
       "      <td>202012</td>\n",
       "      <td>AC</td>\n",
       "      <td>0</td>\n",
       "      <td>0</td>\n",
       "      <td>2020</td>\n",
       "      <td>3</td>\n",
       "    </tr>\n",
       "    <tr>\n",
       "      <th>4</th>\n",
       "      <td>Rio Branco</td>\n",
       "      <td>202012</td>\n",
       "      <td>AC</td>\n",
       "      <td>1</td>\n",
       "      <td>0</td>\n",
       "      <td>2020</td>\n",
       "      <td>3</td>\n",
       "    </tr>\n",
       "  </tbody>\n",
       "</table>\n",
       "</div>"
      ],
      "text/plain": [
       "         city  epidemiological_week state  new_confirmed  new_deaths   ano  \\\n",
       "0  Rio Branco                202012    AC              3           0  2020   \n",
       "1         NaN                202012    AC              3           0  2020   \n",
       "2  Rio Branco                202012    AC              0           0  2020   \n",
       "3         NaN                202012    AC              0           0  2020   \n",
       "4  Rio Branco                202012    AC              1           0  2020   \n",
       "\n",
       "   mes  \n",
       "0    3  \n",
       "1    3  \n",
       "2    3  \n",
       "3    3  \n",
       "4    3  "
      ]
     },
     "execution_count": 18,
     "metadata": {},
     "output_type": "execute_result"
    }
   ],
   "source": [
    "casos.head()"
   ]
  },
  {
   "cell_type": "code",
   "execution_count": 19,
   "metadata": {},
   "outputs": [
    {
     "name": "stdout",
     "output_type": "stream",
     "text": [
      "<class 'pandas.core.frame.DataFrame'>\n",
      "RangeIndex: 3853648 entries, 0 to 3853647\n",
      "Data columns (total 7 columns):\n",
      " #   Column                Dtype \n",
      "---  ------                ----- \n",
      " 0   city                  object\n",
      " 1   epidemiological_week  int64 \n",
      " 2   state                 object\n",
      " 3   new_confirmed         int64 \n",
      " 4   new_deaths            int64 \n",
      " 5   ano                   int32 \n",
      " 6   mes                   int32 \n",
      "dtypes: int32(2), int64(3), object(2)\n",
      "memory usage: 176.4+ MB\n"
     ]
    }
   ],
   "source": [
    "casos.info()"
   ]
  },
  {
   "cell_type": "code",
   "execution_count": 20,
   "metadata": {},
   "outputs": [],
   "source": [
    "estados_regioes = {\n",
    "    'AC': 'Norte',\n",
    "    'AL': 'Nordeste',\n",
    "    'AM': 'Norte',\n",
    "    'AP': 'Norte',\n",
    "    'BA': 'Nordeste',\n",
    "    'CE': 'Nordeste',\n",
    "    'DF': 'Centro-Oeste',\n",
    "    'ES': 'Sudeste',\n",
    "    'GO': 'Centro-Oeste',\n",
    "    'MA': 'Nordeste',\n",
    "    'MG': 'Sudeste',\n",
    "    'MS': 'Centro-Oeste',\n",
    "    'MT': 'Centro-Oeste',\n",
    "    'PA': 'Norte',\n",
    "    'PB': 'Nordeste',\n",
    "    'PE': 'Nordeste',\n",
    "    'PI': 'Nordeste',\n",
    "    'PR': 'Sul',\n",
    "    'RJ': 'Sudeste',\n",
    "    'RN': 'Nordeste',\n",
    "    'RO': 'Norte',\n",
    "    'RR': 'Norte',\n",
    "    'RS': 'Sul',\n",
    "    'SC': 'Sul',\n",
    "    'SE': 'Nordeste',\n",
    "    'SP': 'Sudeste',\n",
    "    'TO': 'Norte'\n",
    "}\n"
   ]
  },
  {
   "cell_type": "code",
   "execution_count": 21,
   "metadata": {},
   "outputs": [],
   "source": [
    "casos['regiao'] = casos['state'].map(estados_regioes)"
   ]
  },
  {
   "cell_type": "code",
   "execution_count": 27,
   "metadata": {},
   "outputs": [
    {
     "data": {
      "text/html": [
       "<div>\n",
       "<style scoped>\n",
       "    .dataframe tbody tr th:only-of-type {\n",
       "        vertical-align: middle;\n",
       "    }\n",
       "\n",
       "    .dataframe tbody tr th {\n",
       "        vertical-align: top;\n",
       "    }\n",
       "\n",
       "    .dataframe thead th {\n",
       "        text-align: right;\n",
       "    }\n",
       "</style>\n",
       "<table border=\"1\" class=\"dataframe\">\n",
       "  <thead>\n",
       "    <tr style=\"text-align: right;\">\n",
       "      <th></th>\n",
       "      <th>city</th>\n",
       "      <th>epidemiological_week</th>\n",
       "      <th>state</th>\n",
       "      <th>new_confirmed</th>\n",
       "      <th>new_deaths</th>\n",
       "      <th>ano</th>\n",
       "      <th>mes</th>\n",
       "      <th>regiao</th>\n",
       "    </tr>\n",
       "  </thead>\n",
       "  <tbody>\n",
       "    <tr>\n",
       "      <th>0</th>\n",
       "      <td>Rio Branco</td>\n",
       "      <td>202012</td>\n",
       "      <td>AC</td>\n",
       "      <td>3</td>\n",
       "      <td>0</td>\n",
       "      <td>2020</td>\n",
       "      <td>3</td>\n",
       "      <td>Norte</td>\n",
       "    </tr>\n",
       "    <tr>\n",
       "      <th>1</th>\n",
       "      <td>NaN</td>\n",
       "      <td>202012</td>\n",
       "      <td>AC</td>\n",
       "      <td>3</td>\n",
       "      <td>0</td>\n",
       "      <td>2020</td>\n",
       "      <td>3</td>\n",
       "      <td>Norte</td>\n",
       "    </tr>\n",
       "    <tr>\n",
       "      <th>2</th>\n",
       "      <td>Rio Branco</td>\n",
       "      <td>202012</td>\n",
       "      <td>AC</td>\n",
       "      <td>0</td>\n",
       "      <td>0</td>\n",
       "      <td>2020</td>\n",
       "      <td>3</td>\n",
       "      <td>Norte</td>\n",
       "    </tr>\n",
       "    <tr>\n",
       "      <th>3</th>\n",
       "      <td>NaN</td>\n",
       "      <td>202012</td>\n",
       "      <td>AC</td>\n",
       "      <td>0</td>\n",
       "      <td>0</td>\n",
       "      <td>2020</td>\n",
       "      <td>3</td>\n",
       "      <td>Norte</td>\n",
       "    </tr>\n",
       "    <tr>\n",
       "      <th>4</th>\n",
       "      <td>Rio Branco</td>\n",
       "      <td>202012</td>\n",
       "      <td>AC</td>\n",
       "      <td>1</td>\n",
       "      <td>0</td>\n",
       "      <td>2020</td>\n",
       "      <td>3</td>\n",
       "      <td>Norte</td>\n",
       "    </tr>\n",
       "  </tbody>\n",
       "</table>\n",
       "</div>"
      ],
      "text/plain": [
       "         city  epidemiological_week state  new_confirmed  new_deaths   ano  \\\n",
       "0  Rio Branco                202012    AC              3           0  2020   \n",
       "1         NaN                202012    AC              3           0  2020   \n",
       "2  Rio Branco                202012    AC              0           0  2020   \n",
       "3         NaN                202012    AC              0           0  2020   \n",
       "4  Rio Branco                202012    AC              1           0  2020   \n",
       "\n",
       "   mes regiao  \n",
       "0    3  Norte  \n",
       "1    3  Norte  \n",
       "2    3  Norte  \n",
       "3    3  Norte  \n",
       "4    3  Norte  "
      ]
     },
     "execution_count": 27,
     "metadata": {},
     "output_type": "execute_result"
    }
   ],
   "source": [
    "casos.head()"
   ]
  },
  {
   "cell_type": "code",
   "execution_count": 29,
   "metadata": {},
   "outputs": [],
   "source": [
    "total_ano = casos[['state','new_deaths','ano','new_confirmed', 'regiao']].groupby(['state','ano','regiao']).sum().reset_index()\n",
    "total_mes = casos[['state','mes','new_deaths','new_confirmed','ano','regiao']].groupby(['state','mes','ano','regiao']).sum().reset_index()\n"
   ]
  },
  {
   "cell_type": "code",
   "execution_count": 45,
   "metadata": {},
   "outputs": [
    {
     "data": {
      "text/html": [
       "<div>\n",
       "<style scoped>\n",
       "    .dataframe tbody tr th:only-of-type {\n",
       "        vertical-align: middle;\n",
       "    }\n",
       "\n",
       "    .dataframe tbody tr th {\n",
       "        vertical-align: top;\n",
       "    }\n",
       "\n",
       "    .dataframe thead th {\n",
       "        text-align: right;\n",
       "    }\n",
       "</style>\n",
       "<table border=\"1\" class=\"dataframe\">\n",
       "  <thead>\n",
       "    <tr style=\"text-align: right;\">\n",
       "      <th></th>\n",
       "      <th>state</th>\n",
       "      <th>ano</th>\n",
       "      <th>regiao</th>\n",
       "      <th>new_deaths</th>\n",
       "      <th>new_confirmed</th>\n",
       "    </tr>\n",
       "  </thead>\n",
       "  <tbody>\n",
       "    <tr>\n",
       "      <th>0</th>\n",
       "      <td>AC</td>\n",
       "      <td>2020</td>\n",
       "      <td>Norte</td>\n",
       "      <td>1590</td>\n",
       "      <td>83240</td>\n",
       "    </tr>\n",
       "    <tr>\n",
       "      <th>1</th>\n",
       "      <td>AC</td>\n",
       "      <td>2021</td>\n",
       "      <td>Norte</td>\n",
       "      <td>2106</td>\n",
       "      <td>93204</td>\n",
       "    </tr>\n",
       "    <tr>\n",
       "      <th>2</th>\n",
       "      <td>AC</td>\n",
       "      <td>2022</td>\n",
       "      <td>Norte</td>\n",
       "      <td>141</td>\n",
       "      <td>35424</td>\n",
       "    </tr>\n",
       "    <tr>\n",
       "      <th>3</th>\n",
       "      <td>AL</td>\n",
       "      <td>2020</td>\n",
       "      <td>Nordeste</td>\n",
       "      <td>4978</td>\n",
       "      <td>209636</td>\n",
       "    </tr>\n",
       "    <tr>\n",
       "      <th>4</th>\n",
       "      <td>AL</td>\n",
       "      <td>2021</td>\n",
       "      <td>Nordeste</td>\n",
       "      <td>7788</td>\n",
       "      <td>274524</td>\n",
       "    </tr>\n",
       "    <tr>\n",
       "      <th>...</th>\n",
       "      <td>...</td>\n",
       "      <td>...</td>\n",
       "      <td>...</td>\n",
       "      <td>...</td>\n",
       "      <td>...</td>\n",
       "    </tr>\n",
       "    <tr>\n",
       "      <th>76</th>\n",
       "      <td>SP</td>\n",
       "      <td>2021</td>\n",
       "      <td>Sudeste</td>\n",
       "      <td>216140</td>\n",
       "      <td>5976140</td>\n",
       "    </tr>\n",
       "    <tr>\n",
       "      <th>77</th>\n",
       "      <td>SP</td>\n",
       "      <td>2022</td>\n",
       "      <td>Sudeste</td>\n",
       "      <td>11905</td>\n",
       "      <td>776266</td>\n",
       "    </tr>\n",
       "    <tr>\n",
       "      <th>78</th>\n",
       "      <td>TO</td>\n",
       "      <td>2020</td>\n",
       "      <td>Norte</td>\n",
       "      <td>2472</td>\n",
       "      <td>181072</td>\n",
       "    </tr>\n",
       "    <tr>\n",
       "      <th>79</th>\n",
       "      <td>TO</td>\n",
       "      <td>2021</td>\n",
       "      <td>Norte</td>\n",
       "      <td>5394</td>\n",
       "      <td>288599</td>\n",
       "    </tr>\n",
       "    <tr>\n",
       "      <th>80</th>\n",
       "      <td>TO</td>\n",
       "      <td>2022</td>\n",
       "      <td>Norte</td>\n",
       "      <td>203</td>\n",
       "      <td>66944</td>\n",
       "    </tr>\n",
       "  </tbody>\n",
       "</table>\n",
       "<p>81 rows × 5 columns</p>\n",
       "</div>"
      ],
      "text/plain": [
       "   state   ano    regiao  new_deaths  new_confirmed\n",
       "0     AC  2020     Norte        1590          83240\n",
       "1     AC  2021     Norte        2106          93204\n",
       "2     AC  2022     Norte         141          35424\n",
       "3     AL  2020  Nordeste        4978         209636\n",
       "4     AL  2021  Nordeste        7788         274524\n",
       "..   ...   ...       ...         ...            ...\n",
       "76    SP  2021   Sudeste      216140        5976140\n",
       "77    SP  2022   Sudeste       11905         776266\n",
       "78    TO  2020     Norte        2472         181072\n",
       "79    TO  2021     Norte        5394         288599\n",
       "80    TO  2022     Norte         203          66944\n",
       "\n",
       "[81 rows x 5 columns]"
      ]
     },
     "execution_count": 45,
     "metadata": {},
     "output_type": "execute_result"
    }
   ],
   "source": [
    "total_ano"
   ]
  },
  {
   "cell_type": "code",
   "execution_count": 50,
   "metadata": {},
   "outputs": [
    {
     "data": {
      "application/vnd.plotly.v1+json": {
       "config": {
        "plotlyServerURL": "https://plot.ly"
       },
       "data": [
        {
         "domain": {
          "x": [
           0,
           1
          ],
          "y": [
           0,
           1
          ]
         },
         "hovertemplate": "regiao=%{label}<br>new_confirmed=%{value}<extra></extra>",
         "labels": [
          "Norte",
          "Nordeste",
          "Norte",
          "Norte",
          "Nordeste",
          "Nordeste",
          "Centro-Oeste",
          "Sudeste",
          "Centro-Oeste",
          "Nordeste",
          "Sudeste",
          "Centro-Oeste",
          "Centro-Oeste",
          "Norte",
          "Nordeste",
          "Nordeste",
          "Nordeste",
          "Sul",
          "Sudeste",
          "Nordeste",
          "Norte",
          "Norte",
          "Sul",
          "Sul",
          "Nordeste",
          "Sudeste",
          "Norte"
         ],
         "legendgroup": "",
         "name": "",
         "showlegend": true,
         "textinfo": "label+percent",
         "type": "pie",
         "values": [
          83240,
          209636,
          402026,
          136402,
          986800,
          671984,
          503402,
          496502,
          618220,
          401876,
          1085818,
          269500,
          360902,
          587604,
          332968,
          444332,
          286358,
          833132,
          869296,
          237998,
          191458,
          137420,
          899348,
          985166,
          225010,
          2924594,
          181072
         ]
        }
       ],
       "layout": {
        "legend": {
         "tracegroupgap": 0
        },
        "margin": {
         "t": 60
        },
        "piecolorway": [
         "rgb(103,0,31)",
         "rgb(178,24,43)",
         "rgb(214,96,77)",
         "rgb(244,165,130)",
         "rgb(253,219,199)",
         "rgb(247,247,247)",
         "rgb(209,229,240)",
         "rgb(146,197,222)",
         "rgb(67,147,195)",
         "rgb(33,102,172)",
         "rgb(5,48,97)"
        ],
        "template": {
         "data": {
          "bar": [
           {
            "error_x": {
             "color": "#2a3f5f"
            },
            "error_y": {
             "color": "#2a3f5f"
            },
            "marker": {
             "line": {
              "color": "#E5ECF6",
              "width": 0.5
             },
             "pattern": {
              "fillmode": "overlay",
              "size": 10,
              "solidity": 0.2
             }
            },
            "type": "bar"
           }
          ],
          "barpolar": [
           {
            "marker": {
             "line": {
              "color": "#E5ECF6",
              "width": 0.5
             },
             "pattern": {
              "fillmode": "overlay",
              "size": 10,
              "solidity": 0.2
             }
            },
            "type": "barpolar"
           }
          ],
          "carpet": [
           {
            "aaxis": {
             "endlinecolor": "#2a3f5f",
             "gridcolor": "white",
             "linecolor": "white",
             "minorgridcolor": "white",
             "startlinecolor": "#2a3f5f"
            },
            "baxis": {
             "endlinecolor": "#2a3f5f",
             "gridcolor": "white",
             "linecolor": "white",
             "minorgridcolor": "white",
             "startlinecolor": "#2a3f5f"
            },
            "type": "carpet"
           }
          ],
          "choropleth": [
           {
            "colorbar": {
             "outlinewidth": 0,
             "ticks": ""
            },
            "type": "choropleth"
           }
          ],
          "contour": [
           {
            "colorbar": {
             "outlinewidth": 0,
             "ticks": ""
            },
            "colorscale": [
             [
              0,
              "#0d0887"
             ],
             [
              0.1111111111111111,
              "#46039f"
             ],
             [
              0.2222222222222222,
              "#7201a8"
             ],
             [
              0.3333333333333333,
              "#9c179e"
             ],
             [
              0.4444444444444444,
              "#bd3786"
             ],
             [
              0.5555555555555556,
              "#d8576b"
             ],
             [
              0.6666666666666666,
              "#ed7953"
             ],
             [
              0.7777777777777778,
              "#fb9f3a"
             ],
             [
              0.8888888888888888,
              "#fdca26"
             ],
             [
              1,
              "#f0f921"
             ]
            ],
            "type": "contour"
           }
          ],
          "contourcarpet": [
           {
            "colorbar": {
             "outlinewidth": 0,
             "ticks": ""
            },
            "type": "contourcarpet"
           }
          ],
          "heatmap": [
           {
            "colorbar": {
             "outlinewidth": 0,
             "ticks": ""
            },
            "colorscale": [
             [
              0,
              "#0d0887"
             ],
             [
              0.1111111111111111,
              "#46039f"
             ],
             [
              0.2222222222222222,
              "#7201a8"
             ],
             [
              0.3333333333333333,
              "#9c179e"
             ],
             [
              0.4444444444444444,
              "#bd3786"
             ],
             [
              0.5555555555555556,
              "#d8576b"
             ],
             [
              0.6666666666666666,
              "#ed7953"
             ],
             [
              0.7777777777777778,
              "#fb9f3a"
             ],
             [
              0.8888888888888888,
              "#fdca26"
             ],
             [
              1,
              "#f0f921"
             ]
            ],
            "type": "heatmap"
           }
          ],
          "heatmapgl": [
           {
            "colorbar": {
             "outlinewidth": 0,
             "ticks": ""
            },
            "colorscale": [
             [
              0,
              "#0d0887"
             ],
             [
              0.1111111111111111,
              "#46039f"
             ],
             [
              0.2222222222222222,
              "#7201a8"
             ],
             [
              0.3333333333333333,
              "#9c179e"
             ],
             [
              0.4444444444444444,
              "#bd3786"
             ],
             [
              0.5555555555555556,
              "#d8576b"
             ],
             [
              0.6666666666666666,
              "#ed7953"
             ],
             [
              0.7777777777777778,
              "#fb9f3a"
             ],
             [
              0.8888888888888888,
              "#fdca26"
             ],
             [
              1,
              "#f0f921"
             ]
            ],
            "type": "heatmapgl"
           }
          ],
          "histogram": [
           {
            "marker": {
             "pattern": {
              "fillmode": "overlay",
              "size": 10,
              "solidity": 0.2
             }
            },
            "type": "histogram"
           }
          ],
          "histogram2d": [
           {
            "colorbar": {
             "outlinewidth": 0,
             "ticks": ""
            },
            "colorscale": [
             [
              0,
              "#0d0887"
             ],
             [
              0.1111111111111111,
              "#46039f"
             ],
             [
              0.2222222222222222,
              "#7201a8"
             ],
             [
              0.3333333333333333,
              "#9c179e"
             ],
             [
              0.4444444444444444,
              "#bd3786"
             ],
             [
              0.5555555555555556,
              "#d8576b"
             ],
             [
              0.6666666666666666,
              "#ed7953"
             ],
             [
              0.7777777777777778,
              "#fb9f3a"
             ],
             [
              0.8888888888888888,
              "#fdca26"
             ],
             [
              1,
              "#f0f921"
             ]
            ],
            "type": "histogram2d"
           }
          ],
          "histogram2dcontour": [
           {
            "colorbar": {
             "outlinewidth": 0,
             "ticks": ""
            },
            "colorscale": [
             [
              0,
              "#0d0887"
             ],
             [
              0.1111111111111111,
              "#46039f"
             ],
             [
              0.2222222222222222,
              "#7201a8"
             ],
             [
              0.3333333333333333,
              "#9c179e"
             ],
             [
              0.4444444444444444,
              "#bd3786"
             ],
             [
              0.5555555555555556,
              "#d8576b"
             ],
             [
              0.6666666666666666,
              "#ed7953"
             ],
             [
              0.7777777777777778,
              "#fb9f3a"
             ],
             [
              0.8888888888888888,
              "#fdca26"
             ],
             [
              1,
              "#f0f921"
             ]
            ],
            "type": "histogram2dcontour"
           }
          ],
          "mesh3d": [
           {
            "colorbar": {
             "outlinewidth": 0,
             "ticks": ""
            },
            "type": "mesh3d"
           }
          ],
          "parcoords": [
           {
            "line": {
             "colorbar": {
              "outlinewidth": 0,
              "ticks": ""
             }
            },
            "type": "parcoords"
           }
          ],
          "pie": [
           {
            "automargin": true,
            "type": "pie"
           }
          ],
          "scatter": [
           {
            "fillpattern": {
             "fillmode": "overlay",
             "size": 10,
             "solidity": 0.2
            },
            "type": "scatter"
           }
          ],
          "scatter3d": [
           {
            "line": {
             "colorbar": {
              "outlinewidth": 0,
              "ticks": ""
             }
            },
            "marker": {
             "colorbar": {
              "outlinewidth": 0,
              "ticks": ""
             }
            },
            "type": "scatter3d"
           }
          ],
          "scattercarpet": [
           {
            "marker": {
             "colorbar": {
              "outlinewidth": 0,
              "ticks": ""
             }
            },
            "type": "scattercarpet"
           }
          ],
          "scattergeo": [
           {
            "marker": {
             "colorbar": {
              "outlinewidth": 0,
              "ticks": ""
             }
            },
            "type": "scattergeo"
           }
          ],
          "scattergl": [
           {
            "marker": {
             "colorbar": {
              "outlinewidth": 0,
              "ticks": ""
             }
            },
            "type": "scattergl"
           }
          ],
          "scattermapbox": [
           {
            "marker": {
             "colorbar": {
              "outlinewidth": 0,
              "ticks": ""
             }
            },
            "type": "scattermapbox"
           }
          ],
          "scatterpolar": [
           {
            "marker": {
             "colorbar": {
              "outlinewidth": 0,
              "ticks": ""
             }
            },
            "type": "scatterpolar"
           }
          ],
          "scatterpolargl": [
           {
            "marker": {
             "colorbar": {
              "outlinewidth": 0,
              "ticks": ""
             }
            },
            "type": "scatterpolargl"
           }
          ],
          "scatterternary": [
           {
            "marker": {
             "colorbar": {
              "outlinewidth": 0,
              "ticks": ""
             }
            },
            "type": "scatterternary"
           }
          ],
          "surface": [
           {
            "colorbar": {
             "outlinewidth": 0,
             "ticks": ""
            },
            "colorscale": [
             [
              0,
              "#0d0887"
             ],
             [
              0.1111111111111111,
              "#46039f"
             ],
             [
              0.2222222222222222,
              "#7201a8"
             ],
             [
              0.3333333333333333,
              "#9c179e"
             ],
             [
              0.4444444444444444,
              "#bd3786"
             ],
             [
              0.5555555555555556,
              "#d8576b"
             ],
             [
              0.6666666666666666,
              "#ed7953"
             ],
             [
              0.7777777777777778,
              "#fb9f3a"
             ],
             [
              0.8888888888888888,
              "#fdca26"
             ],
             [
              1,
              "#f0f921"
             ]
            ],
            "type": "surface"
           }
          ],
          "table": [
           {
            "cells": {
             "fill": {
              "color": "#EBF0F8"
             },
             "line": {
              "color": "white"
             }
            },
            "header": {
             "fill": {
              "color": "#C8D4E3"
             },
             "line": {
              "color": "white"
             }
            },
            "type": "table"
           }
          ]
         },
         "layout": {
          "annotationdefaults": {
           "arrowcolor": "#2a3f5f",
           "arrowhead": 0,
           "arrowwidth": 1
          },
          "autotypenumbers": "strict",
          "coloraxis": {
           "colorbar": {
            "outlinewidth": 0,
            "ticks": ""
           }
          },
          "colorscale": {
           "diverging": [
            [
             0,
             "#8e0152"
            ],
            [
             0.1,
             "#c51b7d"
            ],
            [
             0.2,
             "#de77ae"
            ],
            [
             0.3,
             "#f1b6da"
            ],
            [
             0.4,
             "#fde0ef"
            ],
            [
             0.5,
             "#f7f7f7"
            ],
            [
             0.6,
             "#e6f5d0"
            ],
            [
             0.7,
             "#b8e186"
            ],
            [
             0.8,
             "#7fbc41"
            ],
            [
             0.9,
             "#4d9221"
            ],
            [
             1,
             "#276419"
            ]
           ],
           "sequential": [
            [
             0,
             "#0d0887"
            ],
            [
             0.1111111111111111,
             "#46039f"
            ],
            [
             0.2222222222222222,
             "#7201a8"
            ],
            [
             0.3333333333333333,
             "#9c179e"
            ],
            [
             0.4444444444444444,
             "#bd3786"
            ],
            [
             0.5555555555555556,
             "#d8576b"
            ],
            [
             0.6666666666666666,
             "#ed7953"
            ],
            [
             0.7777777777777778,
             "#fb9f3a"
            ],
            [
             0.8888888888888888,
             "#fdca26"
            ],
            [
             1,
             "#f0f921"
            ]
           ],
           "sequentialminus": [
            [
             0,
             "#0d0887"
            ],
            [
             0.1111111111111111,
             "#46039f"
            ],
            [
             0.2222222222222222,
             "#7201a8"
            ],
            [
             0.3333333333333333,
             "#9c179e"
            ],
            [
             0.4444444444444444,
             "#bd3786"
            ],
            [
             0.5555555555555556,
             "#d8576b"
            ],
            [
             0.6666666666666666,
             "#ed7953"
            ],
            [
             0.7777777777777778,
             "#fb9f3a"
            ],
            [
             0.8888888888888888,
             "#fdca26"
            ],
            [
             1,
             "#f0f921"
            ]
           ]
          },
          "colorway": [
           "#636efa",
           "#EF553B",
           "#00cc96",
           "#ab63fa",
           "#FFA15A",
           "#19d3f3",
           "#FF6692",
           "#B6E880",
           "#FF97FF",
           "#FECB52"
          ],
          "font": {
           "color": "#2a3f5f"
          },
          "geo": {
           "bgcolor": "white",
           "lakecolor": "white",
           "landcolor": "#E5ECF6",
           "showlakes": true,
           "showland": true,
           "subunitcolor": "white"
          },
          "hoverlabel": {
           "align": "left"
          },
          "hovermode": "closest",
          "mapbox": {
           "style": "light"
          },
          "paper_bgcolor": "white",
          "plot_bgcolor": "#E5ECF6",
          "polar": {
           "angularaxis": {
            "gridcolor": "white",
            "linecolor": "white",
            "ticks": ""
           },
           "bgcolor": "#E5ECF6",
           "radialaxis": {
            "gridcolor": "white",
            "linecolor": "white",
            "ticks": ""
           }
          },
          "scene": {
           "xaxis": {
            "backgroundcolor": "#E5ECF6",
            "gridcolor": "white",
            "gridwidth": 2,
            "linecolor": "white",
            "showbackground": true,
            "ticks": "",
            "zerolinecolor": "white"
           },
           "yaxis": {
            "backgroundcolor": "#E5ECF6",
            "gridcolor": "white",
            "gridwidth": 2,
            "linecolor": "white",
            "showbackground": true,
            "ticks": "",
            "zerolinecolor": "white"
           },
           "zaxis": {
            "backgroundcolor": "#E5ECF6",
            "gridcolor": "white",
            "gridwidth": 2,
            "linecolor": "white",
            "showbackground": true,
            "ticks": "",
            "zerolinecolor": "white"
           }
          },
          "shapedefaults": {
           "line": {
            "color": "#2a3f5f"
           }
          },
          "ternary": {
           "aaxis": {
            "gridcolor": "white",
            "linecolor": "white",
            "ticks": ""
           },
           "baxis": {
            "gridcolor": "white",
            "linecolor": "white",
            "ticks": ""
           },
           "bgcolor": "#E5ECF6",
           "caxis": {
            "gridcolor": "white",
            "linecolor": "white",
            "ticks": ""
           }
          },
          "title": {
           "x": 0.05
          },
          "xaxis": {
           "automargin": true,
           "gridcolor": "white",
           "linecolor": "white",
           "ticks": "",
           "title": {
            "standoff": 15
           },
           "zerolinecolor": "white",
           "zerolinewidth": 2
          },
          "yaxis": {
           "automargin": true,
           "gridcolor": "white",
           "linecolor": "white",
           "ticks": "",
           "title": {
            "standoff": 15
           },
           "zerolinecolor": "white",
           "zerolinewidth": 2
          }
         }
        }
       }
      }
     },
     "metadata": {},
     "output_type": "display_data"
    }
   ],
   "source": [
    "fig_pie = px.pie(data_frame=total_ano[total_ano['ano'] == 2020],\n",
    "       values = 'new_confirmed',\n",
    "       names= 'regiao',\n",
    "       color_discrete_sequence=px.colors.sequential.RdBu,\n",
    "       labels = {'regiao': 'regiao'}\n",
    "       )\n",
    "fig_pie.update_traces(textinfo='label+percent')\n",
    "fig_pie.show()"
   ]
  },
  {
   "cell_type": "code",
   "execution_count": 64,
   "metadata": {},
   "outputs": [
    {
     "data": {
      "text/html": [
       "\n",
       "        <iframe\n",
       "            width=\"100%\"\n",
       "            height=\"650\"\n",
       "            src=\"http://127.0.0.1:8050/\"\n",
       "            frameborder=\"0\"\n",
       "            allowfullscreen\n",
       "            \n",
       "        ></iframe>\n",
       "        "
      ],
      "text/plain": [
       "<IPython.lib.display.IFrame at 0x168b3094610>"
      ]
     },
     "metadata": {},
     "output_type": "display_data"
    },
    {
     "name": "stdout",
     "output_type": "stream",
     "text": [
      "---------------------------------------------------------------------------\n",
      "ValueError                                Traceback (most recent call last)\n",
      "Cell In[64], line 63, in atualiza_charts(estado=None, ano=[2020, 2022])\n",
      "     51 @app.callback(\n",
      "     52     [Output('mapa_calor', 'figure'),\n",
      "     53      Output('mapa_linhas', 'figure'),\n",
      "   (...)\n",
      "     61 def atualiza_charts(estado, ano):\n",
      "     62     # Filtrando os dados com base no estado e ano selecionados para o mapa\n",
      "---> 63     estado_df = total_ano[(total_ano['ano'] == ano) & (total_ano['state'] == estado)] if estado else total_ano[total_ano['ano'] == ano]\n",
      "        estado = None\n",
      "        total_ano =    state   ano    regiao  new_deaths  new_confirmed\n",
      "0     AC  2020     Norte        1590          83240\n",
      "1     AC  2021     Norte        2106          93204\n",
      "2     AC  2022     Norte         141          35424\n",
      "3     AL  2020  Nordeste        4978         209636\n",
      "4     AL  2021  Nordeste        7788         274524\n",
      "..   ...   ...       ...         ...            ...\n",
      "76    SP  2021   Sudeste      216140        5976140\n",
      "77    SP  2022   Sudeste       11905         776266\n",
      "78    TO  2020     Norte        2472         181072\n",
      "79    TO  2021     Norte        5394         288599\n",
      "80    TO  2022     Norte         203          66944\n",
      "\n",
      "[81 rows x 5 columns]\n",
      "        ano = [2020, 2022]\n",
      "     65     fig_mapa = px.choropleth(estado_df,\n",
      "     66                              geojson='https://raw.githubusercontent.com/codeforamerica/click_that_hood/master/public/data/brazil-states.geojson',\n",
      "     67                              locations='state',\n",
      "   (...)\n",
      "     72                              color_continuous_scale='Blues',\n",
      "     73                              title=\"Mapa Coroplético dos Casos por Estado no Brasil\")\n",
      "     75     fig_mapa.update_geos(\n",
      "     76         scope=\"south america\",  # Limitar o escopo ao Brasil\n",
      "     77         projection_type=\"mercator\",  # Usar projeção Mercator\n",
      "   (...)\n",
      "     80         lonaxis_range=[-75, -30]  # Ajustar as longitudes para focar no Brasil\n",
      "     81     )\n",
      "\n",
      "File c:\\Users\\cassi\\AppData\\Local\\Programs\\Python\\Python311\\Lib\\site-packages\\pandas\\core\\ops\\common.py:76, in _unpack_zerodim_and_defer.<locals>.new_method(\n",
      "    self=0     2020\n",
      "1     2021\n",
      "2     2022\n",
      "3     2020\n",
      "4   ...21\n",
      "80    2022\n",
      "Name: ano, Length: 81, dtype: int32,\n",
      "    other=[2020, 2022]\n",
      ")\n",
      "     72             return NotImplemented\n",
      "     74 other = item_from_zerodim(other)\n",
      "---> 76 return method(self, other)\n",
      "        other = [2020, 2022]\n",
      "        method = <function OpsMixin.__eq__ at 0x00000168F6B074C0>\n",
      "        self = 0     2020\n",
      "1     2021\n",
      "2     2022\n",
      "3     2020\n",
      "4     2021\n",
      "      ... \n",
      "76    2021\n",
      "77    2022\n",
      "78    2020\n",
      "79    2021\n",
      "80    2022\n",
      "Name: ano, Length: 81, dtype: int32\n",
      "\n",
      "File c:\\Users\\cassi\\AppData\\Local\\Programs\\Python\\Python311\\Lib\\site-packages\\pandas\\core\\arraylike.py:40, in OpsMixin.__eq__(\n",
      "    self=0     2020\n",
      "1     2021\n",
      "2     2022\n",
      "3     2020\n",
      "4   ...21\n",
      "80    2022\n",
      "Name: ano, Length: 81, dtype: int32,\n",
      "    other=[2020, 2022]\n",
      ")\n",
      "     38 @unpack_zerodim_and_defer(\"__eq__\")\n",
      "     39 def __eq__(self, other):\n",
      "---> 40     return self._cmp_method(other, operator.eq)\n",
      "        other = [2020, 2022]\n",
      "        self = 0     2020\n",
      "1     2021\n",
      "2     2022\n",
      "3     2020\n",
      "4     2021\n",
      "      ... \n",
      "76    2021\n",
      "77    2022\n",
      "78    2020\n",
      "79    2021\n",
      "80    2022\n",
      "Name: ano, Length: 81, dtype: int32\n",
      "\n",
      "File c:\\Users\\cassi\\AppData\\Local\\Programs\\Python\\Python311\\Lib\\site-packages\\pandas\\core\\series.py:6119, in Series._cmp_method(\n",
      "    self=0     2020\n",
      "1     2021\n",
      "2     2022\n",
      "3     2020\n",
      "4   ...21\n",
      "80    2022\n",
      "Name: ano, Length: 81, dtype: int32,\n",
      "    other=[2020, 2022],\n",
      "    op=<built-in function eq>\n",
      ")\n",
      "   6116 lvalues = self._values\n",
      "   6117 rvalues = extract_array(other, extract_numpy=True, extract_range=True)\n",
      "-> 6119 res_values = ops.comparison_op(lvalues, rvalues, op)\n",
      "        lvalues = array([2020, 2021, 2022, 2020, 2021, 2022, 2020, 2021, 2022, 2020, 2021,\n",
      "       2022, 2020, 2021, 2022, 2020, 2021, 2022, 2020, 2021, 2022, 2020,\n",
      "       2021, 2022, 2020, 2021, 2022, 2020, 2021, 2022, 2020, 2021, 2022,\n",
      "       2020, 2021, 2022, 2020, 2021, 2022, 2020, 2021, 2022, 2020, 2021,\n",
      "       2022, 2020, 2021, 2022, 2020, 2021, 2022, 2020, 2021, 2022, 2020,\n",
      "       2021, 2022, 2020, 2021, 2022, 2020, 2021, 2022, 2020, 2021, 2022,\n",
      "       2020, 2021, 2022, 2020, 2021, 2022, 2020, 2021, 2022, 2020, 2021,\n",
      "       2022, 2020, 2021, 2022], dtype=int32)\n",
      "        rvalues = [2020, 2022]\n",
      "        op = <built-in function eq>\n",
      "        ops = <module 'pandas.core.ops' from 'c:\\\\Users\\\\cassi\\\\AppData\\\\Local\\\\Programs\\\\Python\\\\Python311\\\\Lib\\\\site-packages\\\\pandas\\\\core\\\\ops\\\\__init__.py'>\n",
      "   6121 return self._construct_result(res_values, name=res_name)\n",
      "\n",
      "File c:\\Users\\cassi\\AppData\\Local\\Programs\\Python\\Python311\\Lib\\site-packages\\pandas\\core\\ops\\array_ops.py:321, in comparison_op(\n",
      "    left=array([2020, 2021, 2022, 2020, 2021, 2022, 2020,...021,\n",
      "       2022, 2020, 2021, 2022], dtype=int32),\n",
      "    right=[2020, 2022],\n",
      "    op=<built-in function eq>\n",
      ")\n",
      "    316 if isinstance(rvalues, (np.ndarray, ABCExtensionArray)):\n",
      "    317     # TODO: make this treatment consistent across ops and classes.\n",
      "    318     #  We are not catching all listlikes here (e.g. frozenset, tuple)\n",
      "    319     #  The ambiguous case is object-dtype.  See GH#27803\n",
      "    320     if len(lvalues) != len(rvalues):\n",
      "--> 321         raise ValueError(\n",
      "        lvalues = array([2020, 2021, 2022, 2020, 2021, 2022, 2020, 2021, 2022, 2020, 2021,\n",
      "       2022, 2020, 2021, 2022, 2020, 2021, 2022, 2020, 2021, 2022, 2020,\n",
      "       2021, 2022, 2020, 2021, 2022, 2020, 2021, 2022, 2020, 2021, 2022,\n",
      "       2020, 2021, 2022, 2020, 2021, 2022, 2020, 2021, 2022, 2020, 2021,\n",
      "       2022, 2020, 2021, 2022, 2020, 2021, 2022, 2020, 2021, 2022, 2020,\n",
      "       2021, 2022, 2020, 2021, 2022, 2020, 2021, 2022, 2020, 2021, 2022,\n",
      "       2020, 2021, 2022, 2020, 2021, 2022, 2020, 2021, 2022, 2020, 2021,\n",
      "       2022, 2020, 2021, 2022], dtype=int32)\n",
      "        rvalues = array([2020, 2022])\n",
      "    322             \"Lengths must match to compare\", lvalues.shape, rvalues.shape\n",
      "    323         )\n",
      "    325 if should_extension_dispatch(lvalues, rvalues) or (\n",
      "    326     (isinstance(rvalues, (Timedelta, BaseOffset, Timestamp)) or right is NaT)\n",
      "    327     and lvalues.dtype != object\n",
      "    328 ):\n",
      "    329     # Call the method on lvalues\n",
      "    330     res_values = op(lvalues, rvalues)\n",
      "\n",
      "ValueError: ('Lengths must match to compare', (81,), (2,))\n",
      "\n"
     ]
    }
   ],
   "source": [
    "import dash\n",
    "from dash import dcc, html\n",
    "from dash.dependencies import Input, Output\n",
    "import plotly.express as px\n",
    "\n",
    "app = dash.Dash(__name__)\n",
    "\n",
    "# Supondo que você já tenha os DataFrames total_ano e total_estado carregados.\n",
    "\n",
    "app.layout = html.Div([\n",
    "\n",
    "    html.Div(children=[\n",
    "        # Criando botão de filtro para os gráficos\n",
    "        # dcc.Dropdown(\n",
    "        #     id='filtro_ano',\n",
    "        #     options=[{'label': ano, 'value': ano} for ano in total_ano['ano'].unique()],\n",
    "        #     value=2022\n",
    "        # ),\n",
    "\n",
    "\n",
    "        dcc.RangeSlider(\n",
    "            id = 'filtro_ano',\n",
    "            min = total_ano['ano'].min(),\n",
    "            max = total_ano['ano'].max(),\n",
    "            value = [2020,2022],\n",
    "            marks = {int(ano): int(ano) for ano in total_ano['ano'].unique()},\n",
    "            step = None\n",
    "            ),\n",
    "\n",
    "        dcc.Dropdown(\n",
    "            id='filtro_estados',\n",
    "            options=[{'label': estado, 'value': estado} for estado in total_ano['state'].unique()],\n",
    "            value=None,\n",
    "            placeholder='Escolha um estado para focar.'\n",
    "        ),\n",
    "    ]),\n",
    "\n",
    "    html.Div(children=[\n",
    "        dcc.Graph(id='mapa_calor'),\n",
    "        dcc.Graph(id='mapa_linhas')\n",
    "\n",
    "    ], style={'display': 'flex'}),\n",
    "    html.Div(children =[ \n",
    "        dcc.Graph(id = 'mapa_barras'),\n",
    "        dcc.Graph(id = 'mapa_rosca')\n",
    "        \n",
    "    ], style = {'display': 'flex'})\n",
    "\n",
    "])\n",
    "\n",
    "@app.callback(\n",
    "    [Output('mapa_calor', 'figure'),\n",
    "     Output('mapa_linhas', 'figure'),\n",
    "     Output('mapa_barras', 'figure'),\n",
    "     Output('mapa_rosca', 'figure')],\n",
    "    [Input('filtro_estados', 'value'),\n",
    "     Input('filtro_ano', 'value')]\n",
    ")\n",
    "\n",
    "\n",
    "# Atualizando os CallsBacks\n",
    "\n",
    "def atualiza_charts(estado, ano):\n",
    "    # Filtrando os dados com base no estado e ano selecionados para o mapa\n",
    "    estado_df = total_ano[(total_ano['ano'] == ano) & (total_ano['state'] == estado)] if estado else total_ano[total_ano['ano'] == ano]\n",
    "\n",
    "    fig_mapa = px.choropleth(estado_df,\n",
    "                             geojson='https://raw.githubusercontent.com/codeforamerica/click_that_hood/master/public/data/brazil-states.geojson',\n",
    "                             locations='state',\n",
    "                             featureidkey='properties.sigla',\n",
    "                             color='new_confirmed',\n",
    "                             hover_name='state',\n",
    "                             hover_data=['new_confirmed', 'new_deaths'],\n",
    "                             color_continuous_scale='Blues',\n",
    "                             title=\"Mapa Coroplético dos Casos por Estado no Brasil\")\n",
    "    \n",
    "    fig_mapa.update_geos(\n",
    "        scope=\"south america\",  # Limitar o escopo ao Brasil\n",
    "        projection_type=\"mercator\",  # Usar projeção Mercator\n",
    "        center={\"lat\": -14.2350, \"lon\": -51.9253},  # Centralizar no Brasil\n",
    "        lataxis_range=[-35, 5],  # Ajustar as latitudes para focar no Brasil\n",
    "        lonaxis_range=[-75, -30]  # Ajustar as longitudes para focar no Brasil\n",
    "    )\n",
    "\n",
    "    \n",
    "    # Filtrando os dados apenas pelo ano selecionado para o gráfico de linhas\n",
    "    filtro_ano = total_ano[total_ano['ano'] == ano]\n",
    "    fig_linhas = px.line(estado_df,\n",
    "                         x='state',\n",
    "                         y='new_deaths',\n",
    "                         title=\"Evolução dos Casos Confirmados ao Longo do Tempo\"\n",
    "    )\n",
    "\n",
    "    # Criando o gráfico de barras por ano entre estados\n",
    "    fig_barras = px.bar(data_frame= filtro_ano,\n",
    "       x = 'state',\n",
    "       y = 'new_deaths',\n",
    "       color = 'new_deaths',\n",
    "       title = 'Indices de mortes entre estados',\n",
    "       hover_data = 'ano'\n",
    "       \n",
    "       )\n",
    "    \n",
    "    fig_pie = px.pie(\n",
    "        estado_df,\n",
    "        values = 'new_confirmed',\n",
    "       names= 'regiao',\n",
    "       color_discrete_sequence=px.colors.sequential.RdBu,\n",
    "       labels = {'regiao': 'regiao'}\n",
    "       )\n",
    "    \n",
    "\n",
    "    fig_pie.update_traces(textinfo='label+percent')\n",
    "\n",
    "\n",
    "    return fig_mapa, fig_linhas,fig_barras,fig_pie\n",
    "\n",
    "if __name__ == '__main__':\n",
    "    app.run_server(debug=True)\n"
   ]
  }
 ],
 "metadata": {
  "kernelspec": {
   "display_name": "Python 3",
   "language": "python",
   "name": "python3"
  },
  "language_info": {
   "codemirror_mode": {
    "name": "ipython",
    "version": 3
   },
   "file_extension": ".py",
   "mimetype": "text/x-python",
   "name": "python",
   "nbconvert_exporter": "python",
   "pygments_lexer": "ipython3",
   "version": "3.11.9"
  }
 },
 "nbformat": 4,
 "nbformat_minor": 2
}
